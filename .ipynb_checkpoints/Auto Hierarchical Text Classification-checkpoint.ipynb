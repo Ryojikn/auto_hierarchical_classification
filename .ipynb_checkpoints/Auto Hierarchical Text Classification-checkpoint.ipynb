{
 "cells": [
  {
   "cell_type": "markdown",
   "metadata": {},
   "source": [
    "# Auto Hierarchical Classification\n",
    "\n",
    "This implementation is created for multiclass NLP problem.\n",
    "\n",
    "And its my own implementation of the concepts provided in the paper below:\n",
    "\n",
    "\n",
    "> Daniel Silva-Palacios, Cèsar Ferri, María José Ramírez-Quintana,\n",
    "> **Improving Performance of Multiclass Classification by Inducing Class Hierarchies,**\n",
    "> Procedia Computer Science,\n",
    "> Volume 108,\n",
    "> 2017,\n",
    "> Pages 1692-1701,\n",
    "> ISSN 1877-0509,\n",
    "> https://doi.org/10.1016/j.procs.2017.05.218.\n",
    "> (https://www.sciencedirect.com/science/article/pii/S1877050917308244)'''\n",
    "\n",
    "\n",
    "## How it works?\n",
    "\n",
    "The concept provided by Palacios et al. explains how to create a similarity matrix based on confusion matrix predicted by the model, and then group the most \"confused\" targets.\n",
    "\n",
    "By applying that, I was able to improve the overall results for the text classifier model."
   ]
  },
  {
   "cell_type": "markdown",
   "metadata": {},
   "source": [
    "## Loading sample data"
   ]
  },
  {
   "cell_type": "code",
   "execution_count": 1,
   "metadata": {
    "ExecuteTime": {
     "end_time": "2021-02-23T19:52:41.647290Z",
     "start_time": "2021-02-23T19:52:39.881807Z"
    }
   },
   "outputs": [],
   "source": [
    "import pandas as pd\n",
    "import numpy as np"
   ]
  },
  {
   "cell_type": "code",
   "execution_count": 2,
   "metadata": {
    "ExecuteTime": {
     "end_time": "2021-02-23T19:52:42.125978Z",
     "start_time": "2021-02-23T19:52:41.650252Z"
    }
   },
   "outputs": [],
   "source": [
    "df = pd.read_csv('input_data/train_40k.csv')"
   ]
  },
  {
   "cell_type": "markdown",
   "metadata": {},
   "source": [
    "## Dataprep core functions"
   ]
  },
  {
   "cell_type": "code",
   "execution_count": 3,
   "metadata": {
    "ExecuteTime": {
     "end_time": "2021-02-23T19:52:46.007584Z",
     "start_time": "2021-02-23T19:52:42.128970Z"
    }
   },
   "outputs": [],
   "source": [
    "import re\n",
    "import pandas as pd\n",
    "from nltk.corpus import stopwords\n",
    "from nltk.tokenize import word_tokenize\n",
    "from nltk.stem import RSLPStemmer, SnowballStemmer\n",
    "from string import punctuation\n",
    "from unicodedata import normalize, combining\n",
    "import unicodedata as ud\n",
    "\n",
    "class Prep:\n",
    "    def __init__(self, language='english'):\n",
    "        self.language = language\n",
    "        self.stopwords_list = stopwords.words(self.language)\n",
    "\n",
    "    def clean_whitespaces(self, df: pd.DataFrame, cols: list):\n",
    "        temp_df = df.copy()\n",
    "        for col in cols:\n",
    "            if (temp_df[col].dtype == object) and (type(temp_df[col].iloc[0]) == str):\n",
    "                temp_df[col] = temp_df[col].apply(lambda x: \" \".join(x.split()))\n",
    "        return temp_df\n",
    "    \n",
    "    def remove_punctuation(self, df: pd.DataFrame, cols: list):\n",
    "        temp_df = df.copy()\n",
    "        for col in cols:\n",
    "            if (temp_df[col].dtype == object) and (type(temp_df[col].iloc[0]) == str):\n",
    "                temp_df[col] = temp_df[col].apply(lambda x: x.translate(str.maketrans('', '', punctuation)))\n",
    "        return temp_df\n",
    "\n",
    "    def remove_accent(self, df: pd.DataFrame, cols: list):\n",
    "        temp_df = df.copy()\n",
    "        for col in cols:\n",
    "            if (temp_df[col].dtype == object) and (type(temp_df[col].iloc[0]) == str):\n",
    "                temp_df[col] = temp_df[col].apply(lambda x: u\"\".join([c for c in normalize('NFKD', x) if not combining(c)]))\n",
    "        return temp_df\n",
    "    \n",
    "    def to_lower(self, df: pd.DataFrame, cols: list):\n",
    "        temp_df = df.copy()\n",
    "        for col in cols:\n",
    "            if (temp_df[col].dtype == object) and (type(temp_df[col].iloc[0]) == str):\n",
    "                temp_df[col] = temp_df[col].apply(lambda x: x.lower())\n",
    "        return temp_df\n",
    "\n",
    "    def replace_regex(self, df: pd.DataFrame, cols: list,\n",
    "                            regex_list: list=None, replace_str:str=None):\n",
    "        if regex_list is None:\n",
    "            regex_list = []\n",
    "        if replace_str is None:\n",
    "            replace_str = ''\n",
    "        temp_df = df.copy()\n",
    "        for col in cols:\n",
    "            for regex in regex_list:\n",
    "                if (temp_df[col].dtype == object) and (type(temp_df[col].iloc[0]) == str):\n",
    "                    temp_df[col] = temp_df[col].apply(lambda x: re.sub(regex, replace_str, x))\n",
    "        return temp_df\n",
    "    \n",
    "    def remove_stopwords(self, df: pd.DataFrame, cols: list, stopwords_list:list = None):\n",
    "        if stopwords_list is None:\n",
    "            stopwords_list = self.stopwords_list\n",
    "        if self.language == 'portuguese':\n",
    "            removal_list = ['não', 'num']\n",
    "            self.stopwords_list.remove(x for x in removal_list)\n",
    "        temp_df = df.copy()\n",
    "        for col in cols:\n",
    "                if (temp_df[col].dtype == object) and (type(temp_df[col].iloc[0]) == str):\n",
    "                    temp_df[col] = temp_df[col].apply(lambda x: ' '.join([word for word in x.split() if word.lower() not in stopwords_list]))\n",
    "        return temp_df\n",
    "\n",
    "    def stemming(self, df: pd.DataFrame, cols: list, stemmer='snowball', ignore_stopwords=False):\n",
    "        '''\n",
    "        Parameters:\n",
    "        df: pandas DataFrame\n",
    "        cols: list with the name of columns that you want to run the pipeline\n",
    "        stemmer: choose between snowball or rslp\n",
    "        ignore_stopwords: only used for snowball\n",
    "        '''\n",
    "        temp_df = df.copy()\n",
    "        if stemmer == 'snowball':\n",
    "            stemmer = SnowballStemmer(self.language, ignore_stopwords)\n",
    "        elif stemmer == 'rslp':\n",
    "            stemmer = RSLPStemmer()\n",
    "        for col in cols:\n",
    "                if (temp_df[col].dtype == object) and (type(temp_df[col].iloc[0]) == str):\n",
    "                    temp_df[col] = temp_df[col].apply(lambda x: ' '.join(stemmer.stem(word) for word in x.split()))\n",
    "        return temp_df\n",
    "        \n",
    "\n",
    "    def lemmatize(self, df: pd.DataFrame, cols: list):\n",
    "        pass\n",
    "\n",
    "    def anonymize(self, df: pd.DataFrame, cols: list):\n",
    "        pass\n",
    "\n",
    "    def tokenize(self, df: pd.DataFrame, cols: list):\n",
    "        temp_df = df.copy()\n",
    "        for col in cols:\n",
    "            if (temp_df[col].dtype == object) and (type(temp_df[col].iloc[0]) == str):\n",
    "                temp_df[col] = temp_df[col].apply(lambda x: word_tokenize(x, self.language))\n",
    "        return temp_df\n",
    "\n",
    "    def pipeline(self, df: pd.DataFrame, cols: list, pipeline=[3],\n",
    "                regex_list: list = None, replace_str: str = '', stopwords_list: list = None):\n",
    "        '''\n",
    "        Parameters:\n",
    "        df: pandas DataFrame\n",
    "        cols: list with the name of columns that you want to run the pipeline\n",
    "        pipeline: list containing order of the functions, be aware that tokenize if selected, \n",
    "        must be in the final position of the list.\n",
    "        0 = clean_whitespaces\n",
    "        1 = remove_punctuation\n",
    "        2 = remove_accent\n",
    "        3 = to_lower\n",
    "        4 = replace_regex\n",
    "        5 = remove_stopwords\n",
    "        6 = stemming\n",
    "        7 = lemmatize\n",
    "        8 = anonymize\n",
    "        9 = tokenize\n",
    "\n",
    "        Returns: \n",
    "        temp_df = pandas DataFrame\n",
    "        '''\n",
    "        functions = {\n",
    "            0: self.clean_whitespaces,\n",
    "            1: self.remove_punctuation,\n",
    "            2: self.remove_accent,\n",
    "            3: self.to_lower,\n",
    "            4: self.replace_regex,\n",
    "            5: self.remove_stopwords,\n",
    "            6: self.stemming,\n",
    "            7: self.lemmatize,\n",
    "            8: self.anonymize,\n",
    "            9: self.tokenize\n",
    "        }\n",
    "        temp_df = df.copy()\n",
    "        for item in pipeline:\n",
    "            if item == 4:\n",
    "                temp_df = functions[item](temp_df, cols, regex_list, replace_str)\n",
    "            elif item == 5:\n",
    "                temp_df = functions[item](temp_df, cols, stopwords_list)\n",
    "            else:\n",
    "                temp_df = functions[item](temp_df, cols)\n",
    "        \n",
    "        return temp_df\n"
   ]
  },
  {
   "cell_type": "code",
   "execution_count": 4,
   "metadata": {
    "ExecuteTime": {
     "end_time": "2021-02-23T19:52:46.047059Z",
     "start_time": "2021-02-23T19:52:46.010093Z"
    }
   },
   "outputs": [],
   "source": [
    "prep = Prep()"
   ]
  },
  {
   "cell_type": "code",
   "execution_count": 5,
   "metadata": {
    "ExecuteTime": {
     "end_time": "2021-02-23T19:52:49.458272Z",
     "start_time": "2021-02-23T19:52:46.049014Z"
    }
   },
   "outputs": [],
   "source": [
    "df = prep.pipeline(df, cols=['Text'], pipeline=[3, 2, 1, 0])"
   ]
  },
  {
   "cell_type": "markdown",
   "metadata": {},
   "source": [
    "## Fixing target"
   ]
  },
  {
   "cell_type": "code",
   "execution_count": 6,
   "metadata": {
    "ExecuteTime": {
     "end_time": "2021-02-23T19:52:49.576953Z",
     "start_time": "2021-02-23T19:52:49.461265Z"
    }
   },
   "outputs": [],
   "source": [
    "df = prep.pipeline(df, cols=['Cat1'], pipeline=[4], regex_list=[r' '], replace_str='_')"
   ]
  },
  {
   "cell_type": "markdown",
   "metadata": {},
   "source": [
    "## Applying tfidf"
   ]
  },
  {
   "cell_type": "code",
   "execution_count": 7,
   "metadata": {
    "ExecuteTime": {
     "end_time": "2021-02-23T19:52:49.584933Z",
     "start_time": "2021-02-23T19:52:49.578948Z"
    }
   },
   "outputs": [],
   "source": [
    "from sklearn.feature_extraction.text import TfidfVectorizer\n",
    "tfidf = TfidfVectorizer(ngram_range=(1, 3), max_df=0.9, min_df=0.1, sublinear_tf=True)"
   ]
  },
  {
   "cell_type": "code",
   "execution_count": 8,
   "metadata": {
    "ExecuteTime": {
     "end_time": "2021-02-23T19:53:06.596882Z",
     "start_time": "2021-02-23T19:52:49.589921Z"
    }
   },
   "outputs": [
    {
     "data": {
      "text/plain": [
       "TfidfVectorizer(max_df=0.9, min_df=0.1, ngram_range=(1, 3), sublinear_tf=True)"
      ]
     },
     "execution_count": 8,
     "metadata": {},
     "output_type": "execute_result"
    }
   ],
   "source": [
    "tfidf.fit(df.Text)"
   ]
  },
  {
   "cell_type": "code",
   "execution_count": 9,
   "metadata": {
    "ExecuteTime": {
     "end_time": "2021-02-23T19:53:16.888589Z",
     "start_time": "2021-02-23T19:53:06.599874Z"
    }
   },
   "outputs": [],
   "source": [
    "features = tfidf.transform(df.Text)"
   ]
  },
  {
   "cell_type": "markdown",
   "metadata": {},
   "source": [
    "## Splitting"
   ]
  },
  {
   "cell_type": "code",
   "execution_count": 10,
   "metadata": {
    "ExecuteTime": {
     "end_time": "2021-02-23T19:53:16.985516Z",
     "start_time": "2021-02-23T19:53:16.890581Z"
    }
   },
   "outputs": [],
   "source": [
    "from sklearn.model_selection import train_test_split\n",
    "X_train, X_test, y_train, y_test = train_test_split(features, df.Cat1, stratify=df.Cat1, test_size=0.2, random_state=42)"
   ]
  },
  {
   "cell_type": "markdown",
   "metadata": {},
   "source": [
    "## Creating baseline model"
   ]
  },
  {
   "cell_type": "code",
   "execution_count": 11,
   "metadata": {
    "ExecuteTime": {
     "end_time": "2021-02-23T19:53:16.991433Z",
     "start_time": "2021-02-23T19:53:16.987445Z"
    }
   },
   "outputs": [],
   "source": [
    "from sklearn.linear_model import LogisticRegression"
   ]
  },
  {
   "cell_type": "code",
   "execution_count": 12,
   "metadata": {
    "ExecuteTime": {
     "end_time": "2021-02-23T19:53:17.005396Z",
     "start_time": "2021-02-23T19:53:16.994426Z"
    }
   },
   "outputs": [],
   "source": [
    "lr = LogisticRegression(random_state=42)"
   ]
  },
  {
   "cell_type": "code",
   "execution_count": 13,
   "metadata": {
    "ExecuteTime": {
     "end_time": "2021-02-23T19:53:20.656854Z",
     "start_time": "2021-02-23T19:53:17.009385Z"
    }
   },
   "outputs": [
    {
     "name": "stderr",
     "output_type": "stream",
     "text": [
      "C:\\ProgramData\\Anaconda3\\lib\\site-packages\\sklearn\\linear_model\\_logistic.py:762: ConvergenceWarning: lbfgs failed to converge (status=1):\n",
      "STOP: TOTAL NO. of ITERATIONS REACHED LIMIT.\n",
      "\n",
      "Increase the number of iterations (max_iter) or scale the data as shown in:\n",
      "    https://scikit-learn.org/stable/modules/preprocessing.html\n",
      "Please also refer to the documentation for alternative solver options:\n",
      "    https://scikit-learn.org/stable/modules/linear_model.html#logistic-regression\n",
      "  n_iter_i = _check_optimize_result(\n"
     ]
    },
    {
     "data": {
      "text/plain": [
       "LogisticRegression(random_state=42)"
      ]
     },
     "execution_count": 13,
     "metadata": {},
     "output_type": "execute_result"
    }
   ],
   "source": [
    "lr.fit(X_train, y_train)"
   ]
  },
  {
   "cell_type": "code",
   "execution_count": 14,
   "metadata": {
    "ExecuteTime": {
     "end_time": "2021-02-23T19:53:20.671813Z",
     "start_time": "2021-02-23T19:53:20.660844Z"
    }
   },
   "outputs": [],
   "source": [
    "y_pred = lr.predict(X_test)"
   ]
  },
  {
   "cell_type": "markdown",
   "metadata": {},
   "source": [
    "## Evaluating baseline model"
   ]
  },
  {
   "cell_type": "code",
   "execution_count": 15,
   "metadata": {
    "ExecuteTime": {
     "end_time": "2021-02-23T19:53:21.092688Z",
     "start_time": "2021-02-23T19:53:20.675804Z"
    }
   },
   "outputs": [
    {
     "name": "stdout",
     "output_type": "stream",
     "text": [
      "                      precision    recall  f1-score   support\n",
      "\n",
      "       baby_products       0.40      0.21      0.27      1127\n",
      "              beauty       0.43      0.31      0.36      1169\n",
      "grocery_gourmet_food       0.38      0.15      0.21       724\n",
      "health_personal_care       0.40      0.64      0.49      1954\n",
      "        pet_supplies       0.35      0.13      0.19       973\n",
      "          toys_games       0.49      0.68      0.57      2053\n",
      "\n",
      "            accuracy                           0.43      8000\n",
      "           macro avg       0.41      0.35      0.35      8000\n",
      "        weighted avg       0.42      0.43      0.40      8000\n",
      "\n",
      "0.39959677373446933\n"
     ]
    }
   ],
   "source": [
    "from sklearn.metrics import classification_report, confusion_matrix, f1_score\n",
    "print(classification_report(y_test, y_pred))\n",
    "print(f1_score(y_test, y_pred, average='weighted'))"
   ]
  },
  {
   "cell_type": "code",
   "execution_count": 16,
   "metadata": {
    "ExecuteTime": {
     "end_time": "2021-02-23T19:53:21.142554Z",
     "start_time": "2021-02-23T19:53:21.094682Z"
    }
   },
   "outputs": [],
   "source": [
    "array = confusion_matrix(y_test, y_pred)\n"
   ]
  },
  {
   "cell_type": "code",
   "execution_count": 17,
   "metadata": {
    "ExecuteTime": {
     "end_time": "2021-02-23T19:53:22.991965Z",
     "start_time": "2021-02-23T19:53:21.144549Z"
    }
   },
   "outputs": [
    {
     "data": {
      "text/plain": [
       "<AxesSubplot:>"
      ]
     },
     "execution_count": 17,
     "metadata": {},
     "output_type": "execute_result"
    },
    {
     "data": {
      "image/png": "[encoded data removed]",
      "text/plain": [
       "<Figure size 432x288 with 2 Axes>"
      ]
     },
     "metadata": {
      "needs_background": "light"
     },
     "output_type": "display_data"
    }
   ],
   "source": [
    "import seaborn as sns\n",
    "classes = np.unique(y_test)\n",
    "sns.heatmap(array, annot=True, fmt='d', xticklabels=classes, yticklabels=classes)"
   ]
  },
  {
   "cell_type": "markdown",
   "metadata": {},
   "source": [
    "## Implementing auto hierachical classification"
   ]
  },
  {
   "cell_type": "code",
   "execution_count": null,
   "metadata": {
    "ExecuteTime": {
     "end_time": "2021-02-23T19:53:23.035855Z",
     "start_time": "2021-02-23T19:53:22.994058Z"
    }
   },
   "outputs": [],
   "source": [
    "from utils import hierarchical_classification"
   ]
  },
  {
   "cell_type": "code",
   "execution_count": 19,
   "metadata": {
    "ExecuteTime": {
     "end_time": "2021-02-23T19:53:31.546195Z",
     "start_time": "2021-02-23T19:53:23.037850Z"
    }
   },
   "outputs": [
    {
     "name": "stderr",
     "output_type": "stream",
     "text": [
      "C:\\ProgramData\\Anaconda3\\lib\\site-packages\\sklearn\\linear_model\\_logistic.py:762: ConvergenceWarning: lbfgs failed to converge (status=1):\n",
      "STOP: TOTAL NO. of ITERATIONS REACHED LIMIT.\n",
      "\n",
      "Increase the number of iterations (max_iter) or scale the data as shown in:\n",
      "    https://scikit-learn.org/stable/modules/preprocessing.html\n",
      "Please also refer to the documentation for alternative solver options:\n",
      "    https://scikit-learn.org/stable/modules/linear_model.html#logistic-regression\n",
      "  n_iter_i = _check_optimize_result(\n"
     ]
    },
    {
     "name": "stdout",
     "output_type": "stream",
     "text": [
      "The most confused classes on iteration 0 are: beauty and health_personal_care\n",
      "New classes are: ['baby_products' 'grocery_gourmet_food' 'group_0' 'pet_supplies'\n",
      " 'toys_games']\n",
      "Best f1_score on validation set is 0.4007046742626636\n",
      "------------------------------------------------------------\n"
     ]
    },
    {
     "name": "stderr",
     "output_type": "stream",
     "text": [
      "C:\\ProgramData\\Anaconda3\\lib\\site-packages\\sklearn\\linear_model\\_logistic.py:762: ConvergenceWarning: lbfgs failed to converge (status=1):\n",
      "STOP: TOTAL NO. of ITERATIONS REACHED LIMIT.\n",
      "\n",
      "Increase the number of iterations (max_iter) or scale the data as shown in:\n",
      "    https://scikit-learn.org/stable/modules/preprocessing.html\n",
      "Please also refer to the documentation for alternative solver options:\n",
      "    https://scikit-learn.org/stable/modules/linear_model.html#logistic-regression\n",
      "  n_iter_i = _check_optimize_result(\n"
     ]
    },
    {
     "name": "stdout",
     "output_type": "stream",
     "text": [
      "The most confused classes on iteration 1 are: grocery_gourmet_food and group_0\n",
      "New classes are: ['baby_products' 'group_1' 'pet_supplies' 'toys_games']\n",
      "Best f1_score on validation set is 0.486079683983423\n",
      "------------------------------------------------------------\n",
      "The most confused classes on iteration 2 are: group_1 and pet_supplies\n",
      "New classes are: ['baby_products' 'group_2' 'toys_games']\n",
      "Best f1_score on validation set is 0.5647435518891047\n",
      "------------------------------------------------------------\n"
     ]
    }
   ],
   "source": [
    "estimators, groups = hierarchical_classification(lr, X_train, y_train, metric=f1_score, random_state=42)"
   ]
  },
  {
   "cell_type": "code",
   "execution_count": 20,
   "metadata": {
    "ExecuteTime": {
     "end_time": "2021-02-23T19:53:31.554174Z",
     "start_time": "2021-02-23T19:53:31.548191Z"
    }
   },
   "outputs": [
    {
     "data": {
      "text/plain": [
       "{'group_0': ['beauty', 'health_personal_care'],\n",
       " 'group_1': ['grocery_gourmet_food', 'group_0'],\n",
       " 'group_2': ['group_1', 'pet_supplies']}"
      ]
     },
     "execution_count": 20,
     "metadata": {},
     "output_type": "execute_result"
    }
   ],
   "source": [
    "groups"
   ]
  },
  {
   "cell_type": "markdown",
   "metadata": {},
   "source": [
    "## Changing the estimator"
   ]
  },
  {
   "cell_type": "code",
   "execution_count": 21,
   "metadata": {
    "ExecuteTime": {
     "end_time": "2021-02-23T19:53:31.791539Z",
     "start_time": "2021-02-23T19:53:31.557166Z"
    }
   },
   "outputs": [],
   "source": [
    "from sklearn.ensemble import RandomForestClassifier\n",
    "\n",
    "rf = RandomForestClassifier(random_state=42)"
   ]
  },
  {
   "cell_type": "code",
   "execution_count": 22,
   "metadata": {
    "ExecuteTime": {
     "end_time": "2021-02-23T19:58:58.238047Z",
     "start_time": "2021-02-23T19:53:31.793534Z"
    }
   },
   "outputs": [
    {
     "name": "stdout",
     "output_type": "stream",
     "text": [
      "The most confused classes on iteration 0 are: beauty and health_personal_care\n",
      "New classes are: ['baby_products' 'grocery_gourmet_food' 'group_0' 'pet_supplies'\n",
      " 'toys_games']\n",
      "Best f1_score on validation set is 0.37061295515621107\n",
      "------------------------------------------------------------\n",
      "The most confused classes on iteration 1 are: grocery_gourmet_food and group_0\n",
      "New classes are: ['baby_products' 'group_1' 'pet_supplies' 'toys_games']\n",
      "Best f1_score on validation set is 0.46590360174302914\n",
      "------------------------------------------------------------\n",
      "The most confused classes on iteration 2 are: group_1 and pet_supplies\n",
      "New classes are: ['baby_products' 'group_2' 'toys_games']\n",
      "Best f1_score on validation set is 0.5482817476180116\n",
      "------------------------------------------------------------\n"
     ]
    }
   ],
   "source": [
    "estimators, groups = hierarchical_classification(rf, X_train, y_train, metric=f1_score, random_state=42)"
   ]
  },
  {
   "cell_type": "markdown",
   "metadata": {},
   "source": [
    "## Changing the metric"
   ]
  },
  {
   "cell_type": "code",
   "execution_count": 23,
   "metadata": {
    "ExecuteTime": {
     "end_time": "2021-02-23T19:58:58.247024Z",
     "start_time": "2021-02-23T19:58:58.243032Z"
    }
   },
   "outputs": [],
   "source": [
    "from sklearn.metrics import accuracy_score"
   ]
  },
  {
   "cell_type": "code",
   "execution_count": 24,
   "metadata": {
    "ExecuteTime": {
     "end_time": "2021-02-23T19:59:05.992750Z",
     "start_time": "2021-02-23T19:58:58.250015Z"
    }
   },
   "outputs": [
    {
     "name": "stderr",
     "output_type": "stream",
     "text": [
      "C:\\ProgramData\\Anaconda3\\lib\\site-packages\\sklearn\\linear_model\\_logistic.py:762: ConvergenceWarning: lbfgs failed to converge (status=1):\n",
      "STOP: TOTAL NO. of ITERATIONS REACHED LIMIT.\n",
      "\n",
      "Increase the number of iterations (max_iter) or scale the data as shown in:\n",
      "    https://scikit-learn.org/stable/modules/preprocessing.html\n",
      "Please also refer to the documentation for alternative solver options:\n",
      "    https://scikit-learn.org/stable/modules/linear_model.html#logistic-regression\n",
      "  n_iter_i = _check_optimize_result(\n"
     ]
    },
    {
     "name": "stdout",
     "output_type": "stream",
     "text": [
      "The most confused classes on iteration 0 are: beauty and health_personal_care\n",
      "New classes are: ['baby_products' 'grocery_gourmet_food' 'group_0' 'pet_supplies'\n",
      " 'toys_games']\n",
      "Best accuracy_score on validation set is 0.4315625\n",
      "------------------------------------------------------------\n"
     ]
    },
    {
     "name": "stderr",
     "output_type": "stream",
     "text": [
      "C:\\ProgramData\\Anaconda3\\lib\\site-packages\\sklearn\\linear_model\\_logistic.py:762: ConvergenceWarning: lbfgs failed to converge (status=1):\n",
      "STOP: TOTAL NO. of ITERATIONS REACHED LIMIT.\n",
      "\n",
      "Increase the number of iterations (max_iter) or scale the data as shown in:\n",
      "    https://scikit-learn.org/stable/modules/preprocessing.html\n",
      "Please also refer to the documentation for alternative solver options:\n",
      "    https://scikit-learn.org/stable/modules/linear_model.html#logistic-regression\n",
      "  n_iter_i = _check_optimize_result(\n"
     ]
    },
    {
     "name": "stdout",
     "output_type": "stream",
     "text": [
      "The most confused classes on iteration 1 are: grocery_gourmet_food and group_0\n",
      "New classes are: ['baby_products' 'group_1' 'pet_supplies' 'toys_games']\n",
      "Best accuracy_score on validation set is 0.540625\n",
      "------------------------------------------------------------\n",
      "The most confused classes on iteration 2 are: group_1 and pet_supplies\n",
      "New classes are: ['baby_products' 'group_2' 'toys_games']\n",
      "Best accuracy_score on validation set is 0.613125\n",
      "------------------------------------------------------------\n"
     ]
    }
   ],
   "source": [
    "estimators, groups = hierarchical_classification(lr, X_train, y_train, metric=accuracy_score, random_state=42)"
   ]
  }
 ],
 "metadata": {
  "kernelspec": {
   "display_name": "Python 3",
   "language": "python",
   "name": "python3"
  },
  "language_info": {
   "codemirror_mode": {
    "name": "ipython",
    "version": 3
   },
   "file_extension": ".py",
   "mimetype": "text/x-python",
   "name": "python",
   "nbconvert_exporter": "python",
   "pygments_lexer": "ipython3",
   "version": "3.8.5"
  }
 },
 "nbformat": 4,
 "nbformat_minor": 4
}
